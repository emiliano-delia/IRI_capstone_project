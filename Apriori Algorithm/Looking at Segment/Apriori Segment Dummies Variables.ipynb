{
 "cells": [
  {
   "cell_type": "markdown",
   "id": "fd966fb9",
   "metadata": {},
   "source": [
    "# Loading the Libraries"
   ]
  },
  {
   "cell_type": "code",
   "execution_count": 1,
   "id": "c142ad23",
   "metadata": {},
   "outputs": [],
   "source": [
    "import pandas as pd\n",
    "import numpy as np\n",
    "from mlxtend.frequent_patterns import apriori\n",
    "from mlxtend.frequent_patterns import association_rules"
   ]
  },
  {
   "cell_type": "markdown",
   "id": "f4971c52",
   "metadata": {},
   "source": [
    "# Reading the Dataset"
   ]
  },
  {
   "cell_type": "code",
   "execution_count": 2,
   "id": "b693720d",
   "metadata": {
    "scrolled": true
   },
   "outputs": [
    {
     "name": "stderr",
     "output_type": "stream",
     "text": [
      "C:\\Users\\manum\\anaconda3\\lib\\site-packages\\ipykernel\\ipkernel.py:287: DeprecationWarning: `should_run_async` will not call `transform_cell` automatically in the future. Please pass the result to `transformed_cell` argument and any exception that happen during thetransform in `preprocessing_exc_tuple` in IPython 7.17 and above.\n",
      "  and should_run_async(code)\n"
     ]
    },
    {
     "data": {
      "text/html": [
       "<div>\n",
       "<style scoped>\n",
       "    .dataframe tbody tr th:only-of-type {\n",
       "        vertical-align: middle;\n",
       "    }\n",
       "\n",
       "    .dataframe tbody tr th {\n",
       "        vertical-align: top;\n",
       "    }\n",
       "\n",
       "    .dataframe thead th {\n",
       "        text-align: right;\n",
       "    }\n",
       "</style>\n",
       "<table border=\"1\" class=\"dataframe\">\n",
       "  <thead>\n",
       "    <tr style=\"text-align: right;\">\n",
       "      <th></th>\n",
       "      <th>Unnamed: 0</th>\n",
       "      <th>invoice_id</th>\n",
       "      <th>segment_ARTISANS</th>\n",
       "      <th>segment_BLACK</th>\n",
       "      <th>segment_CELIACS</th>\n",
       "      <th>segment_EXTRA</th>\n",
       "      <th>segment_FLAVOURED</th>\n",
       "      <th>segment_IMPORT PREMIUM</th>\n",
       "      <th>segment_IMPORT SPECIAL</th>\n",
       "      <th>segment_NATIONAL</th>\n",
       "      <th>segment_WITHOUT ALCOHOL</th>\n",
       "      <th>segment_ZERO ALCOHOL</th>\n",
       "    </tr>\n",
       "  </thead>\n",
       "  <tbody>\n",
       "    <tr>\n",
       "      <th>0</th>\n",
       "      <td>0</td>\n",
       "      <td>1-1</td>\n",
       "      <td>0</td>\n",
       "      <td>0</td>\n",
       "      <td>1</td>\n",
       "      <td>1</td>\n",
       "      <td>1</td>\n",
       "      <td>1</td>\n",
       "      <td>1</td>\n",
       "      <td>1</td>\n",
       "      <td>1</td>\n",
       "      <td>1</td>\n",
       "    </tr>\n",
       "    <tr>\n",
       "      <th>1</th>\n",
       "      <td>1</td>\n",
       "      <td>1-10</td>\n",
       "      <td>0</td>\n",
       "      <td>1</td>\n",
       "      <td>0</td>\n",
       "      <td>1</td>\n",
       "      <td>1</td>\n",
       "      <td>1</td>\n",
       "      <td>1</td>\n",
       "      <td>1</td>\n",
       "      <td>1</td>\n",
       "      <td>1</td>\n",
       "    </tr>\n",
       "    <tr>\n",
       "      <th>2</th>\n",
       "      <td>2</td>\n",
       "      <td>1-11</td>\n",
       "      <td>0</td>\n",
       "      <td>1</td>\n",
       "      <td>0</td>\n",
       "      <td>1</td>\n",
       "      <td>1</td>\n",
       "      <td>1</td>\n",
       "      <td>0</td>\n",
       "      <td>1</td>\n",
       "      <td>1</td>\n",
       "      <td>1</td>\n",
       "    </tr>\n",
       "    <tr>\n",
       "      <th>3</th>\n",
       "      <td>3</td>\n",
       "      <td>1-12</td>\n",
       "      <td>0</td>\n",
       "      <td>1</td>\n",
       "      <td>0</td>\n",
       "      <td>1</td>\n",
       "      <td>1</td>\n",
       "      <td>1</td>\n",
       "      <td>1</td>\n",
       "      <td>1</td>\n",
       "      <td>1</td>\n",
       "      <td>1</td>\n",
       "    </tr>\n",
       "    <tr>\n",
       "      <th>4</th>\n",
       "      <td>4</td>\n",
       "      <td>1-13</td>\n",
       "      <td>0</td>\n",
       "      <td>1</td>\n",
       "      <td>0</td>\n",
       "      <td>1</td>\n",
       "      <td>1</td>\n",
       "      <td>1</td>\n",
       "      <td>1</td>\n",
       "      <td>1</td>\n",
       "      <td>1</td>\n",
       "      <td>1</td>\n",
       "    </tr>\n",
       "  </tbody>\n",
       "</table>\n",
       "</div>"
      ],
      "text/plain": [
       "   Unnamed: 0 invoice_id  segment_ARTISANS  segment_BLACK  segment_CELIACS  \\\n",
       "0           0        1-1                 0              0                1   \n",
       "1           1       1-10                 0              1                0   \n",
       "2           2       1-11                 0              1                0   \n",
       "3           3       1-12                 0              1                0   \n",
       "4           4       1-13                 0              1                0   \n",
       "\n",
       "   segment_EXTRA  segment_FLAVOURED  segment_IMPORT PREMIUM  \\\n",
       "0              1                  1                       1   \n",
       "1              1                  1                       1   \n",
       "2              1                  1                       1   \n",
       "3              1                  1                       1   \n",
       "4              1                  1                       1   \n",
       "\n",
       "   segment_IMPORT SPECIAL  segment_NATIONAL  segment_WITHOUT ALCOHOL  \\\n",
       "0                       1                 1                        1   \n",
       "1                       1                 1                        1   \n",
       "2                       0                 1                        1   \n",
       "3                       1                 1                        1   \n",
       "4                       1                 1                        1   \n",
       "\n",
       "   segment_ZERO ALCOHOL  \n",
       "0                     1  \n",
       "1                     1  \n",
       "2                     1  \n",
       "3                     1  \n",
       "4                     1  "
      ]
     },
     "execution_count": 2,
     "metadata": {},
     "output_type": "execute_result"
    }
   ],
   "source": [
    "baskets = pd.read_csv(\"SEGMENT DUMMIES.csv\")\n",
    "\n",
    "baskets.head()"
   ]
  },
  {
   "cell_type": "code",
   "execution_count": 3,
   "id": "fc0e95a5",
   "metadata": {},
   "outputs": [
    {
     "name": "stderr",
     "output_type": "stream",
     "text": [
      "C:\\Users\\manum\\anaconda3\\lib\\site-packages\\ipykernel\\ipkernel.py:287: DeprecationWarning: `should_run_async` will not call `transform_cell` automatically in the future. Please pass the result to `transformed_cell` argument and any exception that happen during thetransform in `preprocessing_exc_tuple` in IPython 7.17 and above.\n",
      "  and should_run_async(code)\n"
     ]
    }
   ],
   "source": [
    "baskets = baskets.drop(['Unnamed: 0'], axis = 1)\n",
    "baskets = baskets.set_index('invoice_id')"
   ]
  },
  {
   "cell_type": "markdown",
   "id": "5e33d912",
   "metadata": {},
   "source": [
    "# Run the Apriori Algorithm"
   ]
  },
  {
   "cell_type": "code",
   "execution_count": 4,
   "id": "c0e83c76",
   "metadata": {},
   "outputs": [
    {
     "name": "stderr",
     "output_type": "stream",
     "text": [
      "C:\\Users\\manum\\anaconda3\\lib\\site-packages\\ipykernel\\ipkernel.py:287: DeprecationWarning: `should_run_async` will not call `transform_cell` automatically in the future. Please pass the result to `transformed_cell` argument and any exception that happen during thetransform in `preprocessing_exc_tuple` in IPython 7.17 and above.\n",
      "  and should_run_async(code)\n",
      "C:\\Users\\manum\\anaconda3\\lib\\site-packages\\mlxtend\\frequent_patterns\\fpcommon.py:111: DeprecationWarning: DataFrames with non-bool types result in worse computationalperformance and their support might be discontinued in the future.Please use a DataFrame with bool type\n",
      "  warnings.warn(\n"
     ]
    },
    {
     "name": "stdout",
     "output_type": "stream",
     "text": [
      "Processing 10 combinations | Sampling itemset size 106\n"
     ]
    },
    {
     "data": {
      "text/html": [
       "<div>\n",
       "<style scoped>\n",
       "    .dataframe tbody tr th:only-of-type {\n",
       "        vertical-align: middle;\n",
       "    }\n",
       "\n",
       "    .dataframe tbody tr th {\n",
       "        vertical-align: top;\n",
       "    }\n",
       "\n",
       "    .dataframe thead th {\n",
       "        text-align: right;\n",
       "    }\n",
       "</style>\n",
       "<table border=\"1\" class=\"dataframe\">\n",
       "  <thead>\n",
       "    <tr style=\"text-align: right;\">\n",
       "      <th></th>\n",
       "      <th>support</th>\n",
       "      <th>itemsets</th>\n",
       "    </tr>\n",
       "  </thead>\n",
       "  <tbody>\n",
       "    <tr>\n",
       "      <th>0</th>\n",
       "      <td>0.412772</td>\n",
       "      <td>(segment_ARTISANS)</td>\n",
       "    </tr>\n",
       "    <tr>\n",
       "      <th>1</th>\n",
       "      <td>0.818973</td>\n",
       "      <td>(segment_BLACK)</td>\n",
       "    </tr>\n",
       "    <tr>\n",
       "      <th>2</th>\n",
       "      <td>0.716725</td>\n",
       "      <td>(segment_CELIACS)</td>\n",
       "    </tr>\n",
       "    <tr>\n",
       "      <th>3</th>\n",
       "      <td>0.991496</td>\n",
       "      <td>(segment_EXTRA)</td>\n",
       "    </tr>\n",
       "    <tr>\n",
       "      <th>4</th>\n",
       "      <td>0.993408</td>\n",
       "      <td>(segment_FLAVOURED)</td>\n",
       "    </tr>\n",
       "  </tbody>\n",
       "</table>\n",
       "</div>"
      ],
      "text/plain": [
       "    support             itemsets\n",
       "0  0.412772   (segment_ARTISANS)\n",
       "1  0.818973      (segment_BLACK)\n",
       "2  0.716725    (segment_CELIACS)\n",
       "3  0.991496      (segment_EXTRA)\n",
       "4  0.993408  (segment_FLAVOURED)"
      ]
     },
     "execution_count": 4,
     "metadata": {},
     "output_type": "execute_result"
    }
   ],
   "source": [
    "itemsets = apriori(baskets, use_colnames=True, verbose=1, low_memory=False, min_support=0.0005)\n",
    "\n",
    "itemsets.head()"
   ]
  },
  {
   "cell_type": "markdown",
   "id": "b6f31555",
   "metadata": {},
   "source": [
    "# Examining the Frequent Itemsets"
   ]
  },
  {
   "cell_type": "code",
   "execution_count": 5,
   "id": "e729999c",
   "metadata": {},
   "outputs": [
    {
     "name": "stderr",
     "output_type": "stream",
     "text": [
      "C:\\Users\\manum\\anaconda3\\lib\\site-packages\\ipykernel\\ipkernel.py:287: DeprecationWarning: `should_run_async` will not call `transform_cell` automatically in the future. Please pass the result to `transformed_cell` argument and any exception that happen during thetransform in `preprocessing_exc_tuple` in IPython 7.17 and above.\n",
      "  and should_run_async(code)\n"
     ]
    },
    {
     "data": {
      "text/html": [
       "<div>\n",
       "<style scoped>\n",
       "    .dataframe tbody tr th:only-of-type {\n",
       "        vertical-align: middle;\n",
       "    }\n",
       "\n",
       "    .dataframe tbody tr th {\n",
       "        vertical-align: top;\n",
       "    }\n",
       "\n",
       "    .dataframe thead th {\n",
       "        text-align: right;\n",
       "    }\n",
       "</style>\n",
       "<table border=\"1\" class=\"dataframe\">\n",
       "  <thead>\n",
       "    <tr style=\"text-align: right;\">\n",
       "      <th></th>\n",
       "      <th>support</th>\n",
       "      <th>itemsets</th>\n",
       "      <th>length</th>\n",
       "    </tr>\n",
       "  </thead>\n",
       "  <tbody>\n",
       "    <tr>\n",
       "      <th>0</th>\n",
       "      <td>0.412772</td>\n",
       "      <td>(segment_ARTISANS)</td>\n",
       "      <td>1</td>\n",
       "    </tr>\n",
       "    <tr>\n",
       "      <th>1</th>\n",
       "      <td>0.818973</td>\n",
       "      <td>(segment_BLACK)</td>\n",
       "      <td>1</td>\n",
       "    </tr>\n",
       "    <tr>\n",
       "      <th>2</th>\n",
       "      <td>0.716725</td>\n",
       "      <td>(segment_CELIACS)</td>\n",
       "      <td>1</td>\n",
       "    </tr>\n",
       "    <tr>\n",
       "      <th>3</th>\n",
       "      <td>0.991496</td>\n",
       "      <td>(segment_EXTRA)</td>\n",
       "      <td>1</td>\n",
       "    </tr>\n",
       "    <tr>\n",
       "      <th>4</th>\n",
       "      <td>0.993408</td>\n",
       "      <td>(segment_FLAVOURED)</td>\n",
       "      <td>1</td>\n",
       "    </tr>\n",
       "  </tbody>\n",
       "</table>\n",
       "</div>"
      ],
      "text/plain": [
       "    support             itemsets  length\n",
       "0  0.412772   (segment_ARTISANS)       1\n",
       "1  0.818973      (segment_BLACK)       1\n",
       "2  0.716725    (segment_CELIACS)       1\n",
       "3  0.991496      (segment_EXTRA)       1\n",
       "4  0.993408  (segment_FLAVOURED)       1"
      ]
     },
     "execution_count": 5,
     "metadata": {},
     "output_type": "execute_result"
    }
   ],
   "source": [
    "itemsets['length'] = itemsets['itemsets'].apply(lambda x: len(x))\n",
    "itemsets.head()"
   ]
  },
  {
   "cell_type": "code",
   "execution_count": 6,
   "id": "956bfd7f",
   "metadata": {},
   "outputs": [
    {
     "name": "stderr",
     "output_type": "stream",
     "text": [
      "C:\\Users\\manum\\anaconda3\\lib\\site-packages\\ipykernel\\ipkernel.py:287: DeprecationWarning: `should_run_async` will not call `transform_cell` automatically in the future. Please pass the result to `transformed_cell` argument and any exception that happen during thetransform in `preprocessing_exc_tuple` in IPython 7.17 and above.\n",
      "  and should_run_async(code)\n"
     ]
    },
    {
     "data": {
      "text/plain": [
       "5     252\n",
       "4     210\n",
       "6     210\n",
       "3     120\n",
       "7     120\n",
       "2      45\n",
       "8      45\n",
       "1      10\n",
       "9      10\n",
       "10      1\n",
       "Name: length, dtype: int64"
      ]
     },
     "execution_count": 6,
     "metadata": {},
     "output_type": "execute_result"
    }
   ],
   "source": [
    "itemsets['length'].value_counts()"
   ]
  },
  {
   "cell_type": "markdown",
   "id": "5b0a35b4",
   "metadata": {},
   "source": [
    "# Calculate the Association Rules"
   ]
  },
  {
   "cell_type": "code",
   "execution_count": 7,
   "id": "d4a9587b",
   "metadata": {},
   "outputs": [
    {
     "name": "stderr",
     "output_type": "stream",
     "text": [
      "C:\\Users\\manum\\anaconda3\\lib\\site-packages\\ipykernel\\ipkernel.py:287: DeprecationWarning: `should_run_async` will not call `transform_cell` automatically in the future. Please pass the result to `transformed_cell` argument and any exception that happen during thetransform in `preprocessing_exc_tuple` in IPython 7.17 and above.\n",
      "  and should_run_async(code)\n"
     ]
    },
    {
     "data": {
      "text/html": [
       "<div>\n",
       "<style scoped>\n",
       "    .dataframe tbody tr th:only-of-type {\n",
       "        vertical-align: middle;\n",
       "    }\n",
       "\n",
       "    .dataframe tbody tr th {\n",
       "        vertical-align: top;\n",
       "    }\n",
       "\n",
       "    .dataframe thead th {\n",
       "        text-align: right;\n",
       "    }\n",
       "</style>\n",
       "<table border=\"1\" class=\"dataframe\">\n",
       "  <thead>\n",
       "    <tr style=\"text-align: right;\">\n",
       "      <th></th>\n",
       "      <th>antecedents</th>\n",
       "      <th>consequents</th>\n",
       "      <th>antecedent support</th>\n",
       "      <th>consequent support</th>\n",
       "      <th>support</th>\n",
       "      <th>confidence</th>\n",
       "      <th>lift</th>\n",
       "      <th>leverage</th>\n",
       "      <th>conviction</th>\n",
       "    </tr>\n",
       "  </thead>\n",
       "  <tbody>\n",
       "    <tr>\n",
       "      <th>1</th>\n",
       "      <td>(segment_ARTISANS)</td>\n",
       "      <td>(segment_BLACK)</td>\n",
       "      <td>0.412772</td>\n",
       "      <td>0.818973</td>\n",
       "      <td>0.390951</td>\n",
       "      <td>0.947136</td>\n",
       "      <td>1.156492</td>\n",
       "      <td>0.052902</td>\n",
       "      <td>3.424384</td>\n",
       "    </tr>\n",
       "    <tr>\n",
       "      <th>3</th>\n",
       "      <td>(segment_ARTISANS)</td>\n",
       "      <td>(segment_CELIACS)</td>\n",
       "      <td>0.412772</td>\n",
       "      <td>0.716725</td>\n",
       "      <td>0.382820</td>\n",
       "      <td>0.927438</td>\n",
       "      <td>1.293995</td>\n",
       "      <td>0.086976</td>\n",
       "      <td>3.903917</td>\n",
       "    </tr>\n",
       "    <tr>\n",
       "      <th>2</th>\n",
       "      <td>(segment_CELIACS)</td>\n",
       "      <td>(segment_ARTISANS)</td>\n",
       "      <td>0.716725</td>\n",
       "      <td>0.412772</td>\n",
       "      <td>0.382820</td>\n",
       "      <td>0.534124</td>\n",
       "      <td>1.293995</td>\n",
       "      <td>0.086976</td>\n",
       "      <td>1.260483</td>\n",
       "    </tr>\n",
       "    <tr>\n",
       "      <th>0</th>\n",
       "      <td>(segment_BLACK)</td>\n",
       "      <td>(segment_ARTISANS)</td>\n",
       "      <td>0.818973</td>\n",
       "      <td>0.412772</td>\n",
       "      <td>0.390951</td>\n",
       "      <td>0.477367</td>\n",
       "      <td>1.156492</td>\n",
       "      <td>0.052902</td>\n",
       "      <td>1.123597</td>\n",
       "    </tr>\n",
       "    <tr>\n",
       "      <th>4</th>\n",
       "      <td>(segment_EXTRA)</td>\n",
       "      <td>(segment_ARTISANS)</td>\n",
       "      <td>0.991496</td>\n",
       "      <td>0.412772</td>\n",
       "      <td>0.412706</td>\n",
       "      <td>0.416246</td>\n",
       "      <td>1.008416</td>\n",
       "      <td>0.003444</td>\n",
       "      <td>1.005951</td>\n",
       "    </tr>\n",
       "  </tbody>\n",
       "</table>\n",
       "</div>"
      ],
      "text/plain": [
       "          antecedents         consequents  antecedent support  \\\n",
       "1  (segment_ARTISANS)     (segment_BLACK)            0.412772   \n",
       "3  (segment_ARTISANS)   (segment_CELIACS)            0.412772   \n",
       "2   (segment_CELIACS)  (segment_ARTISANS)            0.716725   \n",
       "0     (segment_BLACK)  (segment_ARTISANS)            0.818973   \n",
       "4     (segment_EXTRA)  (segment_ARTISANS)            0.991496   \n",
       "\n",
       "   consequent support   support  confidence      lift  leverage  conviction  \n",
       "1            0.818973  0.390951    0.947136  1.156492  0.052902    3.424384  \n",
       "3            0.716725  0.382820    0.927438  1.293995  0.086976    3.903917  \n",
       "2            0.412772  0.382820    0.534124  1.293995  0.086976    1.260483  \n",
       "0            0.412772  0.390951    0.477367  1.156492  0.052902    1.123597  \n",
       "4            0.412772  0.412706    0.416246  1.008416  0.003444    1.005951  "
      ]
     },
     "execution_count": 7,
     "metadata": {},
     "output_type": "execute_result"
    }
   ],
   "source": [
    "rules = association_rules(itemsets, metric=\"lift\", min_threshold=0.5)\n",
    "rules.head().sort_values(by='confidence', ascending = False)"
   ]
  },
  {
   "cell_type": "code",
   "execution_count": null,
   "id": "013e4cb4",
   "metadata": {},
   "outputs": [],
   "source": []
  }
 ],
 "metadata": {
  "kernelspec": {
   "display_name": "Python 3",
   "language": "python",
   "name": "python3"
  },
  "language_info": {
   "codemirror_mode": {
    "name": "ipython",
    "version": 3
   },
   "file_extension": ".py",
   "mimetype": "text/x-python",
   "name": "python",
   "nbconvert_exporter": "python",
   "pygments_lexer": "ipython3",
   "version": "3.8.8"
  }
 },
 "nbformat": 4,
 "nbformat_minor": 5
}
