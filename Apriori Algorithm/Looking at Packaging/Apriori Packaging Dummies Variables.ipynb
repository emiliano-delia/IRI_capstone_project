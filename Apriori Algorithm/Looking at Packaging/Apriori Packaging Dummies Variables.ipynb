{
 "cells": [
  {
   "cell_type": "markdown",
   "id": "cfb95f20",
   "metadata": {},
   "source": [
    "# Loading the Libraries"
   ]
  },
  {
   "cell_type": "code",
   "execution_count": 1,
   "id": "c142ad23",
   "metadata": {},
   "outputs": [],
   "source": [
    "import pandas as pd\n",
    "import numpy as np\n",
    "from mlxtend.frequent_patterns import apriori\n",
    "from mlxtend.frequent_patterns import association_rules"
   ]
  },
  {
   "cell_type": "markdown",
   "id": "92b483db",
   "metadata": {},
   "source": [
    "# Reading the Dataset"
   ]
  },
  {
   "cell_type": "code",
   "execution_count": 2,
   "id": "b693720d",
   "metadata": {
    "scrolled": true
   },
   "outputs": [
    {
     "name": "stderr",
     "output_type": "stream",
     "text": [
      "C:\\Users\\manum\\anaconda3\\lib\\site-packages\\ipykernel\\ipkernel.py:287: DeprecationWarning: `should_run_async` will not call `transform_cell` automatically in the future. Please pass the result to `transformed_cell` argument and any exception that happen during thetransform in `preprocessing_exc_tuple` in IPython 7.17 and above.\n",
      "  and should_run_async(code)\n"
     ]
    },
    {
     "data": {
      "text/html": [
       "<div>\n",
       "<style scoped>\n",
       "    .dataframe tbody tr th:only-of-type {\n",
       "        vertical-align: middle;\n",
       "    }\n",
       "\n",
       "    .dataframe tbody tr th {\n",
       "        vertical-align: top;\n",
       "    }\n",
       "\n",
       "    .dataframe thead th {\n",
       "        text-align: right;\n",
       "    }\n",
       "</style>\n",
       "<table border=\"1\" class=\"dataframe\">\n",
       "  <thead>\n",
       "    <tr style=\"text-align: right;\">\n",
       "      <th></th>\n",
       "      <th>Unnamed: 0</th>\n",
       "      <th>invoice_id</th>\n",
       "      <th>packaging_CAN</th>\n",
       "      <th>packaging_CRISTAL BOTTLE</th>\n",
       "      <th>packaging_OTHER</th>\n",
       "      <th>packaging_PET</th>\n",
       "    </tr>\n",
       "  </thead>\n",
       "  <tbody>\n",
       "    <tr>\n",
       "      <th>0</th>\n",
       "      <td>0</td>\n",
       "      <td>1-1</td>\n",
       "      <td>1</td>\n",
       "      <td>1</td>\n",
       "      <td>0</td>\n",
       "      <td>1</td>\n",
       "    </tr>\n",
       "    <tr>\n",
       "      <th>1</th>\n",
       "      <td>1</td>\n",
       "      <td>1-10</td>\n",
       "      <td>1</td>\n",
       "      <td>1</td>\n",
       "      <td>0</td>\n",
       "      <td>1</td>\n",
       "    </tr>\n",
       "    <tr>\n",
       "      <th>2</th>\n",
       "      <td>2</td>\n",
       "      <td>1-11</td>\n",
       "      <td>1</td>\n",
       "      <td>1</td>\n",
       "      <td>0</td>\n",
       "      <td>1</td>\n",
       "    </tr>\n",
       "    <tr>\n",
       "      <th>3</th>\n",
       "      <td>3</td>\n",
       "      <td>1-12</td>\n",
       "      <td>1</td>\n",
       "      <td>1</td>\n",
       "      <td>0</td>\n",
       "      <td>1</td>\n",
       "    </tr>\n",
       "    <tr>\n",
       "      <th>4</th>\n",
       "      <td>4</td>\n",
       "      <td>1-13</td>\n",
       "      <td>1</td>\n",
       "      <td>1</td>\n",
       "      <td>0</td>\n",
       "      <td>1</td>\n",
       "    </tr>\n",
       "  </tbody>\n",
       "</table>\n",
       "</div>"
      ],
      "text/plain": [
       "   Unnamed: 0 invoice_id  packaging_CAN  packaging_CRISTAL BOTTLE  \\\n",
       "0           0        1-1              1                         1   \n",
       "1           1       1-10              1                         1   \n",
       "2           2       1-11              1                         1   \n",
       "3           3       1-12              1                         1   \n",
       "4           4       1-13              1                         1   \n",
       "\n",
       "   packaging_OTHER  packaging_PET  \n",
       "0                0              1  \n",
       "1                0              1  \n",
       "2                0              1  \n",
       "3                0              1  \n",
       "4                0              1  "
      ]
     },
     "execution_count": 2,
     "metadata": {},
     "output_type": "execute_result"
    }
   ],
   "source": [
    "baskets = pd.read_csv(\"PACKAGING DUMMIES.csv\")\n",
    "\n",
    "baskets.head()"
   ]
  },
  {
   "cell_type": "code",
   "execution_count": 3,
   "id": "fc0e95a5",
   "metadata": {},
   "outputs": [
    {
     "name": "stderr",
     "output_type": "stream",
     "text": [
      "C:\\Users\\manum\\anaconda3\\lib\\site-packages\\ipykernel\\ipkernel.py:287: DeprecationWarning: `should_run_async` will not call `transform_cell` automatically in the future. Please pass the result to `transformed_cell` argument and any exception that happen during thetransform in `preprocessing_exc_tuple` in IPython 7.17 and above.\n",
      "  and should_run_async(code)\n"
     ]
    }
   ],
   "source": [
    "baskets = baskets.drop(['Unnamed: 0'], axis = 1)\n",
    "baskets = baskets.set_index('invoice_id')"
   ]
  },
  {
   "cell_type": "markdown",
   "id": "764a7510",
   "metadata": {},
   "source": [
    "# Run the Apriori Algorithm"
   ]
  },
  {
   "cell_type": "code",
   "execution_count": 4,
   "id": "c0e83c76",
   "metadata": {},
   "outputs": [
    {
     "name": "stdout",
     "output_type": "stream",
     "text": [
      "\r",
      "Processing 12 combinations | Sampling itemset size 2\r",
      "Processing 12 combinations | Sampling itemset size 3\r",
      "Processing 4 combinations | Sampling itemset size 4\n"
     ]
    },
    {
     "name": "stderr",
     "output_type": "stream",
     "text": [
      "C:\\Users\\manum\\anaconda3\\lib\\site-packages\\ipykernel\\ipkernel.py:287: DeprecationWarning: `should_run_async` will not call `transform_cell` automatically in the future. Please pass the result to `transformed_cell` argument and any exception that happen during thetransform in `preprocessing_exc_tuple` in IPython 7.17 and above.\n",
      "  and should_run_async(code)\n",
      "C:\\Users\\manum\\anaconda3\\lib\\site-packages\\mlxtend\\frequent_patterns\\fpcommon.py:111: DeprecationWarning: DataFrames with non-bool types result in worse computationalperformance and their support might be discontinued in the future.Please use a DataFrame with bool type\n",
      "  warnings.warn(\n"
     ]
    },
    {
     "data": {
      "text/html": [
       "<div>\n",
       "<style scoped>\n",
       "    .dataframe tbody tr th:only-of-type {\n",
       "        vertical-align: middle;\n",
       "    }\n",
       "\n",
       "    .dataframe tbody tr th {\n",
       "        vertical-align: top;\n",
       "    }\n",
       "\n",
       "    .dataframe thead th {\n",
       "        text-align: right;\n",
       "    }\n",
       "</style>\n",
       "<table border=\"1\" class=\"dataframe\">\n",
       "  <thead>\n",
       "    <tr style=\"text-align: right;\">\n",
       "      <th></th>\n",
       "      <th>support</th>\n",
       "      <th>itemsets</th>\n",
       "    </tr>\n",
       "  </thead>\n",
       "  <tbody>\n",
       "    <tr>\n",
       "      <th>0</th>\n",
       "      <td>0.999517</td>\n",
       "      <td>(packaging_CAN)</td>\n",
       "    </tr>\n",
       "    <tr>\n",
       "      <th>1</th>\n",
       "      <td>0.999604</td>\n",
       "      <td>(packaging_CRISTAL BOTTLE)</td>\n",
       "    </tr>\n",
       "    <tr>\n",
       "      <th>2</th>\n",
       "      <td>0.247742</td>\n",
       "      <td>(packaging_OTHER)</td>\n",
       "    </tr>\n",
       "    <tr>\n",
       "      <th>3</th>\n",
       "      <td>0.248116</td>\n",
       "      <td>(packaging_PET)</td>\n",
       "    </tr>\n",
       "    <tr>\n",
       "      <th>4</th>\n",
       "      <td>0.999121</td>\n",
       "      <td>(packaging_CAN, packaging_CRISTAL BOTTLE)</td>\n",
       "    </tr>\n",
       "  </tbody>\n",
       "</table>\n",
       "</div>"
      ],
      "text/plain": [
       "    support                                   itemsets\n",
       "0  0.999517                            (packaging_CAN)\n",
       "1  0.999604                 (packaging_CRISTAL BOTTLE)\n",
       "2  0.247742                          (packaging_OTHER)\n",
       "3  0.248116                            (packaging_PET)\n",
       "4  0.999121  (packaging_CAN, packaging_CRISTAL BOTTLE)"
      ]
     },
     "execution_count": 4,
     "metadata": {},
     "output_type": "execute_result"
    }
   ],
   "source": [
    "itemsets = apriori(baskets, use_colnames=True, verbose=1, low_memory=False, min_support=0.0005)\n",
    "\n",
    "itemsets.head()"
   ]
  },
  {
   "cell_type": "markdown",
   "id": "ae4b6ec7",
   "metadata": {},
   "source": [
    "# Examining the Frequent Itemsets"
   ]
  },
  {
   "cell_type": "code",
   "execution_count": 5,
   "id": "e729999c",
   "metadata": {},
   "outputs": [
    {
     "name": "stderr",
     "output_type": "stream",
     "text": [
      "C:\\Users\\manum\\anaconda3\\lib\\site-packages\\ipykernel\\ipkernel.py:287: DeprecationWarning: `should_run_async` will not call `transform_cell` automatically in the future. Please pass the result to `transformed_cell` argument and any exception that happen during thetransform in `preprocessing_exc_tuple` in IPython 7.17 and above.\n",
      "  and should_run_async(code)\n"
     ]
    },
    {
     "data": {
      "text/html": [
       "<div>\n",
       "<style scoped>\n",
       "    .dataframe tbody tr th:only-of-type {\n",
       "        vertical-align: middle;\n",
       "    }\n",
       "\n",
       "    .dataframe tbody tr th {\n",
       "        vertical-align: top;\n",
       "    }\n",
       "\n",
       "    .dataframe thead th {\n",
       "        text-align: right;\n",
       "    }\n",
       "</style>\n",
       "<table border=\"1\" class=\"dataframe\">\n",
       "  <thead>\n",
       "    <tr style=\"text-align: right;\">\n",
       "      <th></th>\n",
       "      <th>support</th>\n",
       "      <th>itemsets</th>\n",
       "      <th>length</th>\n",
       "    </tr>\n",
       "  </thead>\n",
       "  <tbody>\n",
       "    <tr>\n",
       "      <th>0</th>\n",
       "      <td>0.999517</td>\n",
       "      <td>(packaging_CAN)</td>\n",
       "      <td>1</td>\n",
       "    </tr>\n",
       "    <tr>\n",
       "      <th>1</th>\n",
       "      <td>0.999604</td>\n",
       "      <td>(packaging_CRISTAL BOTTLE)</td>\n",
       "      <td>1</td>\n",
       "    </tr>\n",
       "    <tr>\n",
       "      <th>2</th>\n",
       "      <td>0.247742</td>\n",
       "      <td>(packaging_OTHER)</td>\n",
       "      <td>1</td>\n",
       "    </tr>\n",
       "    <tr>\n",
       "      <th>3</th>\n",
       "      <td>0.248116</td>\n",
       "      <td>(packaging_PET)</td>\n",
       "      <td>1</td>\n",
       "    </tr>\n",
       "    <tr>\n",
       "      <th>4</th>\n",
       "      <td>0.999121</td>\n",
       "      <td>(packaging_CAN, packaging_CRISTAL BOTTLE)</td>\n",
       "      <td>2</td>\n",
       "    </tr>\n",
       "  </tbody>\n",
       "</table>\n",
       "</div>"
      ],
      "text/plain": [
       "    support                                   itemsets  length\n",
       "0  0.999517                            (packaging_CAN)       1\n",
       "1  0.999604                 (packaging_CRISTAL BOTTLE)       1\n",
       "2  0.247742                          (packaging_OTHER)       1\n",
       "3  0.248116                            (packaging_PET)       1\n",
       "4  0.999121  (packaging_CAN, packaging_CRISTAL BOTTLE)       2"
      ]
     },
     "execution_count": 5,
     "metadata": {},
     "output_type": "execute_result"
    }
   ],
   "source": [
    "itemsets['length'] = itemsets['itemsets'].apply(lambda x: len(x))\n",
    "itemsets.head()"
   ]
  },
  {
   "cell_type": "code",
   "execution_count": 6,
   "id": "956bfd7f",
   "metadata": {},
   "outputs": [
    {
     "name": "stderr",
     "output_type": "stream",
     "text": [
      "C:\\Users\\manum\\anaconda3\\lib\\site-packages\\ipykernel\\ipkernel.py:287: DeprecationWarning: `should_run_async` will not call `transform_cell` automatically in the future. Please pass the result to `transformed_cell` argument and any exception that happen during thetransform in `preprocessing_exc_tuple` in IPython 7.17 and above.\n",
      "  and should_run_async(code)\n"
     ]
    },
    {
     "data": {
      "text/plain": [
       "2    6\n",
       "1    4\n",
       "3    4\n",
       "4    1\n",
       "Name: length, dtype: int64"
      ]
     },
     "execution_count": 6,
     "metadata": {},
     "output_type": "execute_result"
    }
   ],
   "source": [
    "itemsets['length'].value_counts()"
   ]
  },
  {
   "cell_type": "markdown",
   "id": "8d9f7385",
   "metadata": {},
   "source": [
    "# Calculate the association rules"
   ]
  },
  {
   "cell_type": "code",
   "execution_count": 7,
   "id": "d4a9587b",
   "metadata": {},
   "outputs": [
    {
     "name": "stderr",
     "output_type": "stream",
     "text": [
      "C:\\Users\\manum\\anaconda3\\lib\\site-packages\\ipykernel\\ipkernel.py:287: DeprecationWarning: `should_run_async` will not call `transform_cell` automatically in the future. Please pass the result to `transformed_cell` argument and any exception that happen during thetransform in `preprocessing_exc_tuple` in IPython 7.17 and above.\n",
      "  and should_run_async(code)\n"
     ]
    },
    {
     "data": {
      "text/html": [
       "<div>\n",
       "<style scoped>\n",
       "    .dataframe tbody tr th:only-of-type {\n",
       "        vertical-align: middle;\n",
       "    }\n",
       "\n",
       "    .dataframe tbody tr th {\n",
       "        vertical-align: top;\n",
       "    }\n",
       "\n",
       "    .dataframe thead th {\n",
       "        text-align: right;\n",
       "    }\n",
       "</style>\n",
       "<table border=\"1\" class=\"dataframe\">\n",
       "  <thead>\n",
       "    <tr style=\"text-align: right;\">\n",
       "      <th></th>\n",
       "      <th>antecedents</th>\n",
       "      <th>consequents</th>\n",
       "      <th>antecedent support</th>\n",
       "      <th>consequent support</th>\n",
       "      <th>support</th>\n",
       "      <th>confidence</th>\n",
       "      <th>lift</th>\n",
       "      <th>leverage</th>\n",
       "      <th>conviction</th>\n",
       "    </tr>\n",
       "  </thead>\n",
       "  <tbody>\n",
       "    <tr>\n",
       "      <th>2</th>\n",
       "      <td>(packaging_OTHER)</td>\n",
       "      <td>(packaging_CAN)</td>\n",
       "      <td>0.247742</td>\n",
       "      <td>0.999517</td>\n",
       "      <td>0.247742</td>\n",
       "      <td>1.000000</td>\n",
       "      <td>1.000484</td>\n",
       "      <td>1.197690e-04</td>\n",
       "      <td>inf</td>\n",
       "    </tr>\n",
       "    <tr>\n",
       "      <th>0</th>\n",
       "      <td>(packaging_CAN)</td>\n",
       "      <td>(packaging_CRISTAL BOTTLE)</td>\n",
       "      <td>0.999517</td>\n",
       "      <td>0.999604</td>\n",
       "      <td>0.999121</td>\n",
       "      <td>0.999604</td>\n",
       "      <td>1.000000</td>\n",
       "      <td>-1.912224e-07</td>\n",
       "      <td>0.999517</td>\n",
       "    </tr>\n",
       "    <tr>\n",
       "      <th>1</th>\n",
       "      <td>(packaging_CRISTAL BOTTLE)</td>\n",
       "      <td>(packaging_CAN)</td>\n",
       "      <td>0.999604</td>\n",
       "      <td>0.999517</td>\n",
       "      <td>0.999121</td>\n",
       "      <td>0.999516</td>\n",
       "      <td>1.000000</td>\n",
       "      <td>-1.912224e-07</td>\n",
       "      <td>0.999604</td>\n",
       "    </tr>\n",
       "    <tr>\n",
       "      <th>4</th>\n",
       "      <td>(packaging_CAN)</td>\n",
       "      <td>(packaging_PET)</td>\n",
       "      <td>0.999517</td>\n",
       "      <td>0.248116</td>\n",
       "      <td>0.248116</td>\n",
       "      <td>0.248236</td>\n",
       "      <td>1.000484</td>\n",
       "      <td>1.199496e-04</td>\n",
       "      <td>1.000160</td>\n",
       "    </tr>\n",
       "    <tr>\n",
       "      <th>3</th>\n",
       "      <td>(packaging_CAN)</td>\n",
       "      <td>(packaging_OTHER)</td>\n",
       "      <td>0.999517</td>\n",
       "      <td>0.247742</td>\n",
       "      <td>0.247742</td>\n",
       "      <td>0.247862</td>\n",
       "      <td>1.000484</td>\n",
       "      <td>1.197690e-04</td>\n",
       "      <td>1.000159</td>\n",
       "    </tr>\n",
       "  </tbody>\n",
       "</table>\n",
       "</div>"
      ],
      "text/plain": [
       "                  antecedents                 consequents  antecedent support  \\\n",
       "2           (packaging_OTHER)             (packaging_CAN)            0.247742   \n",
       "0             (packaging_CAN)  (packaging_CRISTAL BOTTLE)            0.999517   \n",
       "1  (packaging_CRISTAL BOTTLE)             (packaging_CAN)            0.999604   \n",
       "4             (packaging_CAN)             (packaging_PET)            0.999517   \n",
       "3             (packaging_CAN)           (packaging_OTHER)            0.999517   \n",
       "\n",
       "   consequent support   support  confidence      lift      leverage  \\\n",
       "2            0.999517  0.247742    1.000000  1.000484  1.197690e-04   \n",
       "0            0.999604  0.999121    0.999604  1.000000 -1.912224e-07   \n",
       "1            0.999517  0.999121    0.999516  1.000000 -1.912224e-07   \n",
       "4            0.248116  0.248116    0.248236  1.000484  1.199496e-04   \n",
       "3            0.247742  0.247742    0.247862  1.000484  1.197690e-04   \n",
       "\n",
       "   conviction  \n",
       "2         inf  \n",
       "0    0.999517  \n",
       "1    0.999604  \n",
       "4    1.000160  \n",
       "3    1.000159  "
      ]
     },
     "execution_count": 7,
     "metadata": {},
     "output_type": "execute_result"
    }
   ],
   "source": [
    "rules = association_rules(itemsets, metric=\"lift\", min_threshold=0.5)\n",
    "rules.head().sort_values(by='confidence', ascending = False)"
   ]
  }
 ],
 "metadata": {
  "kernelspec": {
   "display_name": "Python 3",
   "language": "python",
   "name": "python3"
  },
  "language_info": {
   "codemirror_mode": {
    "name": "ipython",
    "version": 3
   },
   "file_extension": ".py",
   "mimetype": "text/x-python",
   "name": "python",
   "nbconvert_exporter": "python",
   "pygments_lexer": "ipython3",
   "version": "3.8.8"
  }
 },
 "nbformat": 4,
 "nbformat_minor": 5
}
