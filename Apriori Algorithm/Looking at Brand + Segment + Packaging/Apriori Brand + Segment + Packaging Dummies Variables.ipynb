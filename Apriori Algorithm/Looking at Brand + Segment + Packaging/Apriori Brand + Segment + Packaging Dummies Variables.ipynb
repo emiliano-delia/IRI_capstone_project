{
 "cells": [
  {
   "cell_type": "markdown",
   "id": "fd966fb9",
   "metadata": {},
   "source": [
    "# Loading the Libraries"
   ]
  },
  {
   "cell_type": "code",
   "execution_count": 1,
   "id": "c142ad23",
   "metadata": {},
   "outputs": [],
   "source": [
    "import pandas as pd\n",
    "import numpy as np\n",
    "from mlxtend.frequent_patterns import apriori\n",
    "from mlxtend.frequent_patterns import association_rules"
   ]
  },
  {
   "cell_type": "code",
   "execution_count": 2,
   "id": "d9167a6d",
   "metadata": {},
   "outputs": [
    {
     "name": "stderr",
     "output_type": "stream",
     "text": [
      "C:\\Users\\manum\\anaconda3\\lib\\site-packages\\ipykernel\\ipkernel.py:287: DeprecationWarning: `should_run_async` will not call `transform_cell` automatically in the future. Please pass the result to `transformed_cell` argument and any exception that happen during thetransform in `preprocessing_exc_tuple` in IPython 7.17 and above.\n",
      "  and should_run_async(code)\n"
     ]
    }
   ],
   "source": [
    "pd.set_option(\"display.max_colwidth\", None)"
   ]
  },
  {
   "cell_type": "markdown",
   "id": "f4971c52",
   "metadata": {},
   "source": [
    "# Reading the Dataset"
   ]
  },
  {
   "cell_type": "code",
   "execution_count": 3,
   "id": "b693720d",
   "metadata": {
    "scrolled": true
   },
   "outputs": [
    {
     "name": "stderr",
     "output_type": "stream",
     "text": [
      "C:\\Users\\manum\\anaconda3\\lib\\site-packages\\ipykernel\\ipkernel.py:287: DeprecationWarning: `should_run_async` will not call `transform_cell` automatically in the future. Please pass the result to `transformed_cell` argument and any exception that happen during thetransform in `preprocessing_exc_tuple` in IPython 7.17 and above.\n",
      "  and should_run_async(code)\n"
     ]
    },
    {
     "data": {
      "text/html": [
       "<div>\n",
       "<style scoped>\n",
       "    .dataframe tbody tr th:only-of-type {\n",
       "        vertical-align: middle;\n",
       "    }\n",
       "\n",
       "    .dataframe tbody tr th {\n",
       "        vertical-align: top;\n",
       "    }\n",
       "\n",
       "    .dataframe thead th {\n",
       "        text-align: right;\n",
       "    }\n",
       "</style>\n",
       "<table border=\"1\" class=\"dataframe\">\n",
       "  <thead>\n",
       "    <tr style=\"text-align: right;\">\n",
       "      <th></th>\n",
       "      <th>Unnamed: 0</th>\n",
       "      <th>invoice_id</th>\n",
       "      <th>brand_MAN 1 - BRAND 1</th>\n",
       "      <th>brand_MAN 1 - BRAND 2</th>\n",
       "      <th>brand_MAN 1 - OTHER BRANDS</th>\n",
       "      <th>brand_MAN 2 - BRAND 1</th>\n",
       "      <th>brand_MAN 2 - BRAND 2</th>\n",
       "      <th>brand_MAN 2 - BRAND 3</th>\n",
       "      <th>brand_MAN 2 - BRAND 4</th>\n",
       "      <th>brand_MAN 2 - BRAND 5</th>\n",
       "      <th>...</th>\n",
       "      <th>segment_CELIACS</th>\n",
       "      <th>segment_EXTRA</th>\n",
       "      <th>segment_FLAVOURED</th>\n",
       "      <th>segment_IMPORT PREMIUM</th>\n",
       "      <th>segment_IMPORT SPECIAL</th>\n",
       "      <th>segment_NATIONAL</th>\n",
       "      <th>segment_WITHOUT ALCOHOL</th>\n",
       "      <th>segment_ZERO ALCOHOL</th>\n",
       "      <th>canal_code_1</th>\n",
       "      <th>canal_code_2</th>\n",
       "    </tr>\n",
       "  </thead>\n",
       "  <tbody>\n",
       "    <tr>\n",
       "      <th>0</th>\n",
       "      <td>0</td>\n",
       "      <td>1-1</td>\n",
       "      <td>1</td>\n",
       "      <td>0</td>\n",
       "      <td>0</td>\n",
       "      <td>1</td>\n",
       "      <td>1</td>\n",
       "      <td>1</td>\n",
       "      <td>0</td>\n",
       "      <td>1</td>\n",
       "      <td>...</td>\n",
       "      <td>1</td>\n",
       "      <td>1</td>\n",
       "      <td>1</td>\n",
       "      <td>1</td>\n",
       "      <td>1</td>\n",
       "      <td>1</td>\n",
       "      <td>1</td>\n",
       "      <td>1</td>\n",
       "      <td>1</td>\n",
       "      <td>0</td>\n",
       "    </tr>\n",
       "    <tr>\n",
       "      <th>1</th>\n",
       "      <td>1</td>\n",
       "      <td>1-10</td>\n",
       "      <td>1</td>\n",
       "      <td>0</td>\n",
       "      <td>0</td>\n",
       "      <td>1</td>\n",
       "      <td>1</td>\n",
       "      <td>1</td>\n",
       "      <td>1</td>\n",
       "      <td>1</td>\n",
       "      <td>...</td>\n",
       "      <td>0</td>\n",
       "      <td>1</td>\n",
       "      <td>1</td>\n",
       "      <td>1</td>\n",
       "      <td>1</td>\n",
       "      <td>1</td>\n",
       "      <td>1</td>\n",
       "      <td>1</td>\n",
       "      <td>1</td>\n",
       "      <td>0</td>\n",
       "    </tr>\n",
       "    <tr>\n",
       "      <th>2</th>\n",
       "      <td>2</td>\n",
       "      <td>1-11</td>\n",
       "      <td>1</td>\n",
       "      <td>0</td>\n",
       "      <td>0</td>\n",
       "      <td>1</td>\n",
       "      <td>1</td>\n",
       "      <td>1</td>\n",
       "      <td>0</td>\n",
       "      <td>0</td>\n",
       "      <td>...</td>\n",
       "      <td>0</td>\n",
       "      <td>1</td>\n",
       "      <td>1</td>\n",
       "      <td>1</td>\n",
       "      <td>0</td>\n",
       "      <td>1</td>\n",
       "      <td>1</td>\n",
       "      <td>1</td>\n",
       "      <td>1</td>\n",
       "      <td>0</td>\n",
       "    </tr>\n",
       "    <tr>\n",
       "      <th>3</th>\n",
       "      <td>3</td>\n",
       "      <td>1-12</td>\n",
       "      <td>1</td>\n",
       "      <td>0</td>\n",
       "      <td>0</td>\n",
       "      <td>1</td>\n",
       "      <td>1</td>\n",
       "      <td>1</td>\n",
       "      <td>1</td>\n",
       "      <td>1</td>\n",
       "      <td>...</td>\n",
       "      <td>0</td>\n",
       "      <td>1</td>\n",
       "      <td>1</td>\n",
       "      <td>1</td>\n",
       "      <td>1</td>\n",
       "      <td>1</td>\n",
       "      <td>1</td>\n",
       "      <td>1</td>\n",
       "      <td>1</td>\n",
       "      <td>0</td>\n",
       "    </tr>\n",
       "    <tr>\n",
       "      <th>4</th>\n",
       "      <td>4</td>\n",
       "      <td>1-13</td>\n",
       "      <td>1</td>\n",
       "      <td>0</td>\n",
       "      <td>0</td>\n",
       "      <td>1</td>\n",
       "      <td>1</td>\n",
       "      <td>1</td>\n",
       "      <td>1</td>\n",
       "      <td>1</td>\n",
       "      <td>...</td>\n",
       "      <td>0</td>\n",
       "      <td>1</td>\n",
       "      <td>1</td>\n",
       "      <td>1</td>\n",
       "      <td>1</td>\n",
       "      <td>1</td>\n",
       "      <td>1</td>\n",
       "      <td>1</td>\n",
       "      <td>1</td>\n",
       "      <td>0</td>\n",
       "    </tr>\n",
       "  </tbody>\n",
       "</table>\n",
       "<p>5 rows × 39 columns</p>\n",
       "</div>"
      ],
      "text/plain": [
       "   Unnamed: 0 invoice_id  brand_MAN 1 - BRAND 1  brand_MAN 1 - BRAND 2  \\\n",
       "0           0        1-1                      1                      0   \n",
       "1           1       1-10                      1                      0   \n",
       "2           2       1-11                      1                      0   \n",
       "3           3       1-12                      1                      0   \n",
       "4           4       1-13                      1                      0   \n",
       "\n",
       "   brand_MAN 1 - OTHER BRANDS  brand_MAN 2 - BRAND 1  brand_MAN 2 - BRAND 2  \\\n",
       "0                           0                      1                      1   \n",
       "1                           0                      1                      1   \n",
       "2                           0                      1                      1   \n",
       "3                           0                      1                      1   \n",
       "4                           0                      1                      1   \n",
       "\n",
       "   brand_MAN 2 - BRAND 3  brand_MAN 2 - BRAND 4  brand_MAN 2 - BRAND 5  ...  \\\n",
       "0                      1                      0                      1  ...   \n",
       "1                      1                      1                      1  ...   \n",
       "2                      1                      0                      0  ...   \n",
       "3                      1                      1                      1  ...   \n",
       "4                      1                      1                      1  ...   \n",
       "\n",
       "   segment_CELIACS  segment_EXTRA  segment_FLAVOURED  segment_IMPORT PREMIUM  \\\n",
       "0                1              1                  1                       1   \n",
       "1                0              1                  1                       1   \n",
       "2                0              1                  1                       1   \n",
       "3                0              1                  1                       1   \n",
       "4                0              1                  1                       1   \n",
       "\n",
       "   segment_IMPORT SPECIAL  segment_NATIONAL  segment_WITHOUT ALCOHOL  \\\n",
       "0                       1                 1                        1   \n",
       "1                       1                 1                        1   \n",
       "2                       0                 1                        1   \n",
       "3                       1                 1                        1   \n",
       "4                       1                 1                        1   \n",
       "\n",
       "   segment_ZERO ALCOHOL  canal_code_1  canal_code_2  \n",
       "0                     1             1             0  \n",
       "1                     1             1             0  \n",
       "2                     1             1             0  \n",
       "3                     1             1             0  \n",
       "4                     1             1             0  \n",
       "\n",
       "[5 rows x 39 columns]"
      ]
     },
     "execution_count": 3,
     "metadata": {},
     "output_type": "execute_result"
    }
   ],
   "source": [
    "baskets = pd.read_csv(\"TOGETHER DUMMIES.csv\")\n",
    "\n",
    "baskets.head()"
   ]
  },
  {
   "cell_type": "code",
   "execution_count": 4,
   "id": "fc0e95a5",
   "metadata": {},
   "outputs": [
    {
     "name": "stderr",
     "output_type": "stream",
     "text": [
      "C:\\Users\\manum\\anaconda3\\lib\\site-packages\\ipykernel\\ipkernel.py:287: DeprecationWarning: `should_run_async` will not call `transform_cell` automatically in the future. Please pass the result to `transformed_cell` argument and any exception that happen during thetransform in `preprocessing_exc_tuple` in IPython 7.17 and above.\n",
      "  and should_run_async(code)\n"
     ]
    }
   ],
   "source": [
    "baskets = baskets.drop(['Unnamed: 0'], axis = 1)\n",
    "baskets = baskets.set_index('invoice_id')"
   ]
  },
  {
   "cell_type": "markdown",
   "id": "5e33d912",
   "metadata": {},
   "source": [
    "# Run the Apriori Algorithm"
   ]
  },
  {
   "cell_type": "code",
   "execution_count": 5,
   "id": "c0e83c76",
   "metadata": {},
   "outputs": [
    {
     "name": "stderr",
     "output_type": "stream",
     "text": [
      "C:\\Users\\manum\\anaconda3\\lib\\site-packages\\ipykernel\\ipkernel.py:287: DeprecationWarning: `should_run_async` will not call `transform_cell` automatically in the future. Please pass the result to `transformed_cell` argument and any exception that happen during thetransform in `preprocessing_exc_tuple` in IPython 7.17 and above.\n",
      "  and should_run_async(code)\n",
      "C:\\Users\\manum\\anaconda3\\lib\\site-packages\\mlxtend\\frequent_patterns\\fpcommon.py:111: DeprecationWarning: DataFrames with non-bool types result in worse computationalperformance and their support might be discontinued in the future.Please use a DataFrame with bool type\n",
      "  warnings.warn(\n"
     ]
    },
    {
     "name": "stdout",
     "output_type": "stream",
     "text": [
      "Processing 132 combinations | Sampling itemset size 121\n"
     ]
    },
    {
     "data": {
      "text/html": [
       "<div>\n",
       "<style scoped>\n",
       "    .dataframe tbody tr th:only-of-type {\n",
       "        vertical-align: middle;\n",
       "    }\n",
       "\n",
       "    .dataframe tbody tr th {\n",
       "        vertical-align: top;\n",
       "    }\n",
       "\n",
       "    .dataframe thead th {\n",
       "        text-align: right;\n",
       "    }\n",
       "</style>\n",
       "<table border=\"1\" class=\"dataframe\">\n",
       "  <thead>\n",
       "    <tr style=\"text-align: right;\">\n",
       "      <th></th>\n",
       "      <th>support</th>\n",
       "      <th>itemsets</th>\n",
       "    </tr>\n",
       "  </thead>\n",
       "  <tbody>\n",
       "    <tr>\n",
       "      <th>0</th>\n",
       "      <td>0.976179</td>\n",
       "      <td>(brand_MAN 1 - BRAND 1)</td>\n",
       "    </tr>\n",
       "    <tr>\n",
       "      <th>1</th>\n",
       "      <td>0.937680</td>\n",
       "      <td>(brand_MAN 2 - BRAND 1)</td>\n",
       "    </tr>\n",
       "    <tr>\n",
       "      <th>2</th>\n",
       "      <td>0.973894</td>\n",
       "      <td>(brand_MAN 2 - BRAND 2)</td>\n",
       "    </tr>\n",
       "    <tr>\n",
       "      <th>3</th>\n",
       "      <td>0.968115</td>\n",
       "      <td>(brand_MAN 2 - BRAND 3)</td>\n",
       "    </tr>\n",
       "    <tr>\n",
       "      <th>4</th>\n",
       "      <td>0.933988</td>\n",
       "      <td>(brand_MAN 2 - OTHER BRANDS)</td>\n",
       "    </tr>\n",
       "  </tbody>\n",
       "</table>\n",
       "</div>"
      ],
      "text/plain": [
       "    support                      itemsets\n",
       "0  0.976179       (brand_MAN 1 - BRAND 1)\n",
       "1  0.937680       (brand_MAN 2 - BRAND 1)\n",
       "2  0.973894       (brand_MAN 2 - BRAND 2)\n",
       "3  0.968115       (brand_MAN 2 - BRAND 3)\n",
       "4  0.933988  (brand_MAN 2 - OTHER BRANDS)"
      ]
     },
     "execution_count": 5,
     "metadata": {},
     "output_type": "execute_result"
    }
   ],
   "source": [
    "itemsets = apriori(baskets, use_colnames=True, verbose=1, low_memory=False, min_support=0.88)\n",
    "\n",
    "itemsets.head()"
   ]
  },
  {
   "cell_type": "markdown",
   "id": "b6f31555",
   "metadata": {},
   "source": [
    "# Examining the Frequent Itemsets"
   ]
  },
  {
   "cell_type": "code",
   "execution_count": 6,
   "id": "e729999c",
   "metadata": {},
   "outputs": [
    {
     "name": "stderr",
     "output_type": "stream",
     "text": [
      "C:\\Users\\manum\\anaconda3\\lib\\site-packages\\ipykernel\\ipkernel.py:287: DeprecationWarning: `should_run_async` will not call `transform_cell` automatically in the future. Please pass the result to `transformed_cell` argument and any exception that happen during thetransform in `preprocessing_exc_tuple` in IPython 7.17 and above.\n",
      "  and should_run_async(code)\n"
     ]
    },
    {
     "data": {
      "text/html": [
       "<div>\n",
       "<style scoped>\n",
       "    .dataframe tbody tr th:only-of-type {\n",
       "        vertical-align: middle;\n",
       "    }\n",
       "\n",
       "    .dataframe tbody tr th {\n",
       "        vertical-align: top;\n",
       "    }\n",
       "\n",
       "    .dataframe thead th {\n",
       "        text-align: right;\n",
       "    }\n",
       "</style>\n",
       "<table border=\"1\" class=\"dataframe\">\n",
       "  <thead>\n",
       "    <tr style=\"text-align: right;\">\n",
       "      <th></th>\n",
       "      <th>support</th>\n",
       "      <th>itemsets</th>\n",
       "      <th>length</th>\n",
       "    </tr>\n",
       "  </thead>\n",
       "  <tbody>\n",
       "    <tr>\n",
       "      <th>0</th>\n",
       "      <td>0.976179</td>\n",
       "      <td>(brand_MAN 1 - BRAND 1)</td>\n",
       "      <td>1</td>\n",
       "    </tr>\n",
       "    <tr>\n",
       "      <th>1</th>\n",
       "      <td>0.937680</td>\n",
       "      <td>(brand_MAN 2 - BRAND 1)</td>\n",
       "      <td>1</td>\n",
       "    </tr>\n",
       "    <tr>\n",
       "      <th>2</th>\n",
       "      <td>0.973894</td>\n",
       "      <td>(brand_MAN 2 - BRAND 2)</td>\n",
       "      <td>1</td>\n",
       "    </tr>\n",
       "    <tr>\n",
       "      <th>3</th>\n",
       "      <td>0.968115</td>\n",
       "      <td>(brand_MAN 2 - BRAND 3)</td>\n",
       "      <td>1</td>\n",
       "    </tr>\n",
       "    <tr>\n",
       "      <th>4</th>\n",
       "      <td>0.933988</td>\n",
       "      <td>(brand_MAN 2 - OTHER BRANDS)</td>\n",
       "      <td>1</td>\n",
       "    </tr>\n",
       "  </tbody>\n",
       "</table>\n",
       "</div>"
      ],
      "text/plain": [
       "    support                      itemsets  length\n",
       "0  0.976179       (brand_MAN 1 - BRAND 1)       1\n",
       "1  0.937680       (brand_MAN 2 - BRAND 1)       1\n",
       "2  0.973894       (brand_MAN 2 - BRAND 2)       1\n",
       "3  0.968115       (brand_MAN 2 - BRAND 3)       1\n",
       "4  0.933988  (brand_MAN 2 - OTHER BRANDS)       1"
      ]
     },
     "execution_count": 6,
     "metadata": {},
     "output_type": "execute_result"
    }
   ],
   "source": [
    "itemsets['length'] = itemsets['itemsets'].apply(lambda x: len(x))\n",
    "itemsets.head()"
   ]
  },
  {
   "cell_type": "code",
   "execution_count": 7,
   "id": "956bfd7f",
   "metadata": {},
   "outputs": [
    {
     "name": "stderr",
     "output_type": "stream",
     "text": [
      "C:\\Users\\manum\\anaconda3\\lib\\site-packages\\ipykernel\\ipkernel.py:287: DeprecationWarning: `should_run_async` will not call `transform_cell` automatically in the future. Please pass the result to `transformed_cell` argument and any exception that happen during thetransform in `preprocessing_exc_tuple` in IPython 7.17 and above.\n",
      "  and should_run_async(code)\n"
     ]
    },
    {
     "data": {
      "text/plain": [
       "6     4916\n",
       "7     4766\n",
       "5     3627\n",
       "8     3263\n",
       "4     1889\n",
       "9     1519\n",
       "3      668\n",
       "10     451\n",
       "2      150\n",
       "11      77\n",
       "1       19\n",
       "12       6\n",
       "Name: length, dtype: int64"
      ]
     },
     "execution_count": 7,
     "metadata": {},
     "output_type": "execute_result"
    }
   ],
   "source": [
    "itemsets['length'].value_counts()"
   ]
  },
  {
   "cell_type": "markdown",
   "id": "5b0a35b4",
   "metadata": {},
   "source": [
    "# Calculate the Association Rules"
   ]
  },
  {
   "cell_type": "markdown",
   "id": "30fedf3e",
   "metadata": {},
   "source": [
    "## Showing only the Head "
   ]
  },
  {
   "cell_type": "code",
   "execution_count": 8,
   "id": "d4a9587b",
   "metadata": {
    "scrolled": true
   },
   "outputs": [
    {
     "name": "stderr",
     "output_type": "stream",
     "text": [
      "C:\\Users\\manum\\anaconda3\\lib\\site-packages\\ipykernel\\ipkernel.py:287: DeprecationWarning: `should_run_async` will not call `transform_cell` automatically in the future. Please pass the result to `transformed_cell` argument and any exception that happen during thetransform in `preprocessing_exc_tuple` in IPython 7.17 and above.\n",
      "  and should_run_async(code)\n"
     ]
    },
    {
     "data": {
      "text/html": [
       "<div>\n",
       "<style scoped>\n",
       "    .dataframe tbody tr th:only-of-type {\n",
       "        vertical-align: middle;\n",
       "    }\n",
       "\n",
       "    .dataframe tbody tr th {\n",
       "        vertical-align: top;\n",
       "    }\n",
       "\n",
       "    .dataframe thead th {\n",
       "        text-align: right;\n",
       "    }\n",
       "</style>\n",
       "<table border=\"1\" class=\"dataframe\">\n",
       "  <thead>\n",
       "    <tr style=\"text-align: right;\">\n",
       "      <th></th>\n",
       "      <th>antecedents</th>\n",
       "      <th>consequents</th>\n",
       "      <th>antecedent support</th>\n",
       "      <th>consequent support</th>\n",
       "      <th>support</th>\n",
       "      <th>confidence</th>\n",
       "      <th>lift</th>\n",
       "      <th>leverage</th>\n",
       "      <th>conviction</th>\n",
       "    </tr>\n",
       "  </thead>\n",
       "  <tbody>\n",
       "    <tr>\n",
       "      <th>4</th>\n",
       "      <td>(brand_MAN 2 - BRAND 3)</td>\n",
       "      <td>(brand_MAN 1 - BRAND 1)</td>\n",
       "      <td>0.968115</td>\n",
       "      <td>0.976179</td>\n",
       "      <td>0.953677</td>\n",
       "      <td>0.985087</td>\n",
       "      <td>1.009125</td>\n",
       "      <td>0.008624</td>\n",
       "      <td>1.597316</td>\n",
       "    </tr>\n",
       "    <tr>\n",
       "      <th>0</th>\n",
       "      <td>(brand_MAN 2 - BRAND 1)</td>\n",
       "      <td>(brand_MAN 1 - BRAND 1)</td>\n",
       "      <td>0.937680</td>\n",
       "      <td>0.976179</td>\n",
       "      <td>0.919727</td>\n",
       "      <td>0.980854</td>\n",
       "      <td>1.004788</td>\n",
       "      <td>0.004383</td>\n",
       "      <td>1.244119</td>\n",
       "    </tr>\n",
       "    <tr>\n",
       "      <th>2</th>\n",
       "      <td>(brand_MAN 2 - BRAND 2)</td>\n",
       "      <td>(brand_MAN 1 - BRAND 1)</td>\n",
       "      <td>0.973894</td>\n",
       "      <td>0.976179</td>\n",
       "      <td>0.954161</td>\n",
       "      <td>0.979738</td>\n",
       "      <td>1.003645</td>\n",
       "      <td>0.003465</td>\n",
       "      <td>1.175614</td>\n",
       "    </tr>\n",
       "    <tr>\n",
       "      <th>3</th>\n",
       "      <td>(brand_MAN 1 - BRAND 1)</td>\n",
       "      <td>(brand_MAN 2 - BRAND 2)</td>\n",
       "      <td>0.976179</td>\n",
       "      <td>0.973894</td>\n",
       "      <td>0.954161</td>\n",
       "      <td>0.977444</td>\n",
       "      <td>1.003645</td>\n",
       "      <td>0.003465</td>\n",
       "      <td>1.157386</td>\n",
       "    </tr>\n",
       "    <tr>\n",
       "      <th>1</th>\n",
       "      <td>(brand_MAN 1 - BRAND 1)</td>\n",
       "      <td>(brand_MAN 2 - BRAND 1)</td>\n",
       "      <td>0.976179</td>\n",
       "      <td>0.937680</td>\n",
       "      <td>0.919727</td>\n",
       "      <td>0.942170</td>\n",
       "      <td>1.004788</td>\n",
       "      <td>0.004383</td>\n",
       "      <td>1.077635</td>\n",
       "    </tr>\n",
       "  </tbody>\n",
       "</table>\n",
       "</div>"
      ],
      "text/plain": [
       "               antecedents              consequents  antecedent support  \\\n",
       "4  (brand_MAN 2 - BRAND 3)  (brand_MAN 1 - BRAND 1)            0.968115   \n",
       "0  (brand_MAN 2 - BRAND 1)  (brand_MAN 1 - BRAND 1)            0.937680   \n",
       "2  (brand_MAN 2 - BRAND 2)  (brand_MAN 1 - BRAND 1)            0.973894   \n",
       "3  (brand_MAN 1 - BRAND 1)  (brand_MAN 2 - BRAND 2)            0.976179   \n",
       "1  (brand_MAN 1 - BRAND 1)  (brand_MAN 2 - BRAND 1)            0.976179   \n",
       "\n",
       "   consequent support   support  confidence      lift  leverage  conviction  \n",
       "4            0.976179  0.953677    0.985087  1.009125  0.008624    1.597316  \n",
       "0            0.976179  0.919727    0.980854  1.004788  0.004383    1.244119  \n",
       "2            0.976179  0.954161    0.979738  1.003645  0.003465    1.175614  \n",
       "3            0.973894  0.954161    0.977444  1.003645  0.003465    1.157386  \n",
       "1            0.937680  0.919727    0.942170  1.004788  0.004383    1.077635  "
      ]
     },
     "execution_count": 8,
     "metadata": {},
     "output_type": "execute_result"
    }
   ],
   "source": [
    "rules = association_rules(itemsets, metric=\"lift\", min_threshold=0.5)\n",
    "rules.head().sort_values(by='confidence', ascending = False)"
   ]
  },
  {
   "cell_type": "markdown",
   "id": "632ac749",
   "metadata": {},
   "source": [
    "## Showing all the Table"
   ]
  },
  {
   "cell_type": "code",
   "execution_count": 14,
   "id": "0b3a98bb",
   "metadata": {},
   "outputs": [
    {
     "name": "stderr",
     "output_type": "stream",
     "text": [
      "C:\\Users\\manum\\anaconda3\\lib\\site-packages\\ipykernel\\ipkernel.py:287: DeprecationWarning: `should_run_async` will not call `transform_cell` automatically in the future. Please pass the result to `transformed_cell` argument and any exception that happen during thetransform in `preprocessing_exc_tuple` in IPython 7.17 and above.\n",
      "  and should_run_async(code)\n"
     ]
    },
    {
     "data": {
      "text/html": [
       "<div>\n",
       "<style scoped>\n",
       "    .dataframe tbody tr th:only-of-type {\n",
       "        vertical-align: middle;\n",
       "    }\n",
       "\n",
       "    .dataframe tbody tr th {\n",
       "        vertical-align: top;\n",
       "    }\n",
       "\n",
       "    .dataframe thead th {\n",
       "        text-align: right;\n",
       "    }\n",
       "</style>\n",
       "<table border=\"1\" class=\"dataframe\">\n",
       "  <thead>\n",
       "    <tr style=\"text-align: right;\">\n",
       "      <th></th>\n",
       "      <th>antecedents</th>\n",
       "      <th>consequents</th>\n",
       "      <th>antecedent support</th>\n",
       "      <th>consequent support</th>\n",
       "      <th>support</th>\n",
       "      <th>confidence</th>\n",
       "      <th>lift</th>\n",
       "      <th>leverage</th>\n",
       "      <th>conviction</th>\n",
       "    </tr>\n",
       "  </thead>\n",
       "  <tbody>\n",
       "    <tr>\n",
       "      <th>1287951</th>\n",
       "      <td>(brand_MAN 3 - BRAND 3, segment_EXTRA, packaging_CAN, brand_MAN 2 - BRAND 2, brand_MAN 1 - BRAND 1, segment_FLAVOURED, segment_WITHOUT ALCOHOL)</td>\n",
       "      <td>(segment_NATIONAL)</td>\n",
       "      <td>0.880458</td>\n",
       "      <td>0.999341</td>\n",
       "      <td>0.880458</td>\n",
       "      <td>1.0</td>\n",
       "      <td>1.000660</td>\n",
       "      <td>0.000580</td>\n",
       "      <td>inf</td>\n",
       "    </tr>\n",
       "    <tr>\n",
       "      <th>90487</th>\n",
       "      <td>(brand_MAN 2 - BRAND 2, segment_IMPORT PREMIUM, segment_ZERO ALCOHOL, brand_MAN 3 - BRAND 1)</td>\n",
       "      <td>(packaging_CAN)</td>\n",
       "      <td>0.887314</td>\n",
       "      <td>0.999517</td>\n",
       "      <td>0.887314</td>\n",
       "      <td>1.0</td>\n",
       "      <td>1.000484</td>\n",
       "      <td>0.000429</td>\n",
       "      <td>inf</td>\n",
       "    </tr>\n",
       "    <tr>\n",
       "      <th>1037335</th>\n",
       "      <td>(packaging_CAN, brand_MAN 3 - BRAND 4, segment_IMPORT PREMIUM, segment_FLAVOURED, segment_WITHOUT ALCOHOL)</td>\n",
       "      <td>(segment_NATIONAL, packaging_CRISTAL BOTTLE)</td>\n",
       "      <td>0.934603</td>\n",
       "      <td>0.999165</td>\n",
       "      <td>0.934603</td>\n",
       "      <td>1.0</td>\n",
       "      <td>1.000836</td>\n",
       "      <td>0.000780</td>\n",
       "      <td>inf</td>\n",
       "    </tr>\n",
       "    <tr>\n",
       "      <th>890652</th>\n",
       "      <td>(brand_MAN 3 - BRAND 3, segment_ZERO ALCOHOL, brand_MAN 3 - BRAND 4, brand_MAN 2 - BRAND 2, segment_NATIONAL, segment_WITHOUT ALCOHOL)</td>\n",
       "      <td>(packaging_CRISTAL BOTTLE)</td>\n",
       "      <td>0.896324</td>\n",
       "      <td>0.999604</td>\n",
       "      <td>0.896324</td>\n",
       "      <td>1.0</td>\n",
       "      <td>1.000396</td>\n",
       "      <td>0.000355</td>\n",
       "      <td>inf</td>\n",
       "    </tr>\n",
       "    <tr>\n",
       "      <th>2190413</th>\n",
       "      <td>(segment_EXTRA, segment_ZERO ALCOHOL, brand_MAN 3 - BRAND 4, segment_IMPORT PREMIUM, brand_MAN 2 - BRAND 2, brand_MAN 1 - BRAND 1, segment_NATIONAL)</td>\n",
       "      <td>(packaging_CRISTAL BOTTLE, packaging_CAN)</td>\n",
       "      <td>0.948645</td>\n",
       "      <td>0.999121</td>\n",
       "      <td>0.948645</td>\n",
       "      <td>1.0</td>\n",
       "      <td>1.000880</td>\n",
       "      <td>0.000834</td>\n",
       "      <td>inf</td>\n",
       "    </tr>\n",
       "  </tbody>\n",
       "</table>\n",
       "</div>"
      ],
      "text/plain": [
       "                                                                                                                                                  antecedents  \\\n",
       "1287951       (brand_MAN 3 - BRAND 3, segment_EXTRA, packaging_CAN, brand_MAN 2 - BRAND 2, brand_MAN 1 - BRAND 1, segment_FLAVOURED, segment_WITHOUT ALCOHOL)   \n",
       "90487                                                            (brand_MAN 2 - BRAND 2, segment_IMPORT PREMIUM, segment_ZERO ALCOHOL, brand_MAN 3 - BRAND 1)   \n",
       "1037335                                            (packaging_CAN, brand_MAN 3 - BRAND 4, segment_IMPORT PREMIUM, segment_FLAVOURED, segment_WITHOUT ALCOHOL)   \n",
       "890652                 (brand_MAN 3 - BRAND 3, segment_ZERO ALCOHOL, brand_MAN 3 - BRAND 4, brand_MAN 2 - BRAND 2, segment_NATIONAL, segment_WITHOUT ALCOHOL)   \n",
       "2190413  (segment_EXTRA, segment_ZERO ALCOHOL, brand_MAN 3 - BRAND 4, segment_IMPORT PREMIUM, brand_MAN 2 - BRAND 2, brand_MAN 1 - BRAND 1, segment_NATIONAL)   \n",
       "\n",
       "                                          consequents  antecedent support  \\\n",
       "1287951                            (segment_NATIONAL)            0.880458   \n",
       "90487                                 (packaging_CAN)            0.887314   \n",
       "1037335  (segment_NATIONAL, packaging_CRISTAL BOTTLE)            0.934603   \n",
       "890652                     (packaging_CRISTAL BOTTLE)            0.896324   \n",
       "2190413     (packaging_CRISTAL BOTTLE, packaging_CAN)            0.948645   \n",
       "\n",
       "         consequent support   support  confidence      lift  leverage  \\\n",
       "1287951            0.999341  0.880458         1.0  1.000660  0.000580   \n",
       "90487              0.999517  0.887314         1.0  1.000484  0.000429   \n",
       "1037335            0.999165  0.934603         1.0  1.000836  0.000780   \n",
       "890652             0.999604  0.896324         1.0  1.000396  0.000355   \n",
       "2190413            0.999121  0.948645         1.0  1.000880  0.000834   \n",
       "\n",
       "         conviction  \n",
       "1287951         inf  \n",
       "90487           inf  \n",
       "1037335         inf  \n",
       "890652          inf  \n",
       "2190413         inf  "
      ]
     },
     "execution_count": 14,
     "metadata": {},
     "output_type": "execute_result"
    }
   ],
   "source": [
    "rules = association_rules(itemsets, metric=\"lift\", min_threshold=0.5)\n",
    "rules.sort_values(by='confidence', ascending = False).head()"
   ]
  },
  {
   "cell_type": "code",
   "execution_count": null,
   "id": "a911e946",
   "metadata": {},
   "outputs": [],
   "source": []
  }
 ],
 "metadata": {
  "kernelspec": {
   "display_name": "Python 3",
   "language": "python",
   "name": "python3"
  },
  "language_info": {
   "codemirror_mode": {
    "name": "ipython",
    "version": 3
   },
   "file_extension": ".py",
   "mimetype": "text/x-python",
   "name": "python",
   "nbconvert_exporter": "python",
   "pygments_lexer": "ipython3",
   "version": "3.8.8"
  }
 },
 "nbformat": 4,
 "nbformat_minor": 5
}
